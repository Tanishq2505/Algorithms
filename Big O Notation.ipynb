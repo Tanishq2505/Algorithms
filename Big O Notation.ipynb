{
 "cells": [
  {
   "cell_type": "markdown",
   "metadata": {},
   "source": [
    "# Big O Notation\n",
    "\n",
    "Big O notation helps us in analyse the performane of a performane of a algorithm how much time your algorithms will take to run by taking the worst case and calculating the time in executing the worst case.lets take the O(1) as time to execute one step. \n",
    "\n",
    "lets take the example of fibonacci series, you have seen it in my repository.so lets take the efficient algorithm \n",
    "\n",
    "first we have to make a n space array it will take O(n)\n",
    "\n",
    "\n",
    "now assign 1st ans 2nd element of the array 0 and 1 they each will take O(1) \n",
    "\n",
    "\n",
    "now the main for loop which will go from 2 to n for calculating sum of last two numbers of the array as the new element of the array now for loop will take n iteration to calculate nth fibonacci number and also we we have to take addition operation in each step usually addition it single step process O(1) but fibonacci is large number and addition of large number usually take multiple machine cycle or processor will take multiple steps to complete the process as sum and carry to next cycle then sum and then next cycle and so on so in this case we will take the time notation for big fibonacci number as O(n) so each for loop will have to do O(n) operation for intire for loop n times so it will be O(n)*O(n) = O(n^2)\n",
    "\n",
    "\n",
    "now taking the sum of each step O(n)[array formation] + O(1)[assigning first number] + O(1)[assigning second number] + O(n^2)[for loop]\n",
    "\n",
    "taking the worst case or largest of them which will be significat at last is O(n^2) so we will assign complexicity of fibonacci as O(n^2)\n"
   ]
  },
  {
   "cell_type": "markdown",
   "metadata": {},
   "source": [
    "writing code is not a big deal but making it efficient is main thing we should aim not to only solve the problem but also make your solution efficient.😎"
   ]
  },
  {
   "cell_type": "markdown",
   "metadata": {},
   "source": []
  }
 ],
 "metadata": {
  "kernelspec": {
   "display_name": "Python 3",
   "language": "python",
   "name": "python3"
  },
  "language_info": {
   "codemirror_mode": {
    "name": "ipython",
    "version": 3
   },
   "file_extension": ".py",
   "mimetype": "text/x-python",
   "name": "python",
   "nbconvert_exporter": "python",
   "pygments_lexer": "ipython3",
   "version": "3.6.5"
  }
 },
 "nbformat": 4,
 "nbformat_minor": 2
}
