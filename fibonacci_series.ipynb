{
 "cells": [
  {
   "attachments": {},
   "cell_type": "markdown",
   "metadata": {},
   "source": [
    "# Fibonacci Series\n",
    "\n",
    "Fibonacci Series is developed by Fibonacci by taking account of Rabit population growth over the year.\n",
    "its general representation is \n",
    "\n",
    "F(0)=0\n",
    "\n",
    "F(1)=1\n",
    "\n",
    "F(n+2)= F(n+1)+F(n)"
   ]
  },
  {
   "cell_type": "code",
   "execution_count": 28,
   "metadata": {},
   "outputs": [
    {
     "name": "stdout",
     "output_type": "stream",
     "text": [
      "35\n",
      "9227465\n",
      "--- 3.918523073196411 seconds ---\n"
     ]
    }
   ],
   "source": [
    "#using recursion\n",
    "# try input as 35\n",
    "\n",
    "import time\n",
    "\n",
    "def calc_fib(n):\n",
    "    if (n <= 1):\n",
    "        return n\n",
    "    return calc_fib(n - 1) + calc_fib(n - 2)\n",
    "\n",
    "n = int(input())\n",
    "start_time = time.time()\n",
    "print(calc_fib(n))\n",
    "print(\"--- %s seconds ---\" % (time.time() - start_time))"
   ]
  },
  {
   "cell_type": "markdown",
   "metadata": {},
   "source": [
    "# Traditional Code\n",
    "\n",
    "As you can see that it has very high computational cost as it calls all the previous fibonacci number for calculating one number. like for calculating F(n+2) we need to calculate F(n+1) and F(n) seperately and add them and for F(n+1) and F(n) we also need to calcuate furthur previous numbers seperately thus forming a tree."
   ]
  },
  {
   "cell_type": "code",
   "execution_count": 29,
   "metadata": {},
   "outputs": [
    {
     "name": "stdout",
     "output_type": "stream",
     "text": [
      "35\n",
      "9227465\n",
      "--- 0.0009996891021728516 seconds ---\n"
     ]
    }
   ],
   "source": [
    "#efficient algorithm\n",
    "# again try input 35\n",
    "\n",
    "import time\n",
    "n= int(input())\n",
    "start_time = time.time()\n",
    "a=[]\n",
    "a.append(1)\n",
    "a.append(1)\n",
    "for i in range(2,n):\n",
    "    a.append(int(a[i-1])+int(a[i-2]))\n",
    "print(a[n-1])\n",
    "print(\"--- %s seconds ---\" % (time.time() - start_time))\n",
    "    "
   ]
  },
  {
   "cell_type": "markdown",
   "metadata": {},
   "source": [
    "# Efficient Code\n",
    "so you saw that it is much faster than prvious algorithm. in this algorithm we calculate and save the fibonacci numbers till the end thus we donot need to fetch all the data from the start and calculate for each individual number we just add two previous terms saved in the stach or like here in list. Thus saving time in calculation."
   ]
  },
  {
   "cell_type": "code",
   "execution_count": null,
   "metadata": {},
   "outputs": [],
   "source": []
  },
  {
   "cell_type": "code",
   "execution_count": null,
   "metadata": {},
   "outputs": [],
   "source": []
  }
 ],
 "metadata": {
  "kernelspec": {
   "display_name": "Python 3",
   "language": "python",
   "name": "python3"
  },
  "language_info": {
   "codemirror_mode": {
    "name": "ipython",
    "version": 3
   },
   "file_extension": ".py",
   "mimetype": "text/x-python",
   "name": "python",
   "nbconvert_exporter": "python",
   "pygments_lexer": "ipython3",
   "version": "3.6.5"
  }
 },
 "nbformat": 4,
 "nbformat_minor": 2
}
