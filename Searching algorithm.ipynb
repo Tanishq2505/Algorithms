{
 "cells": [
  {
   "cell_type": "markdown",
   "metadata": {},
   "source": [
    "# Searching Algorithms\n",
    "\n",
    "searching algorithms are designed to retrieve an element from any data structure where it is sorted.there are many algorithms under this topic and all of them is a state of the art technique on its own.\n",
    "\n",
    "so here are some of these wonderful algorithms."
   ]
  },
  {
   "cell_type": "markdown",
   "metadata": {},
   "source": [
    "## Linear Search\n",
    "\n",
    "this is the most basic searching algorithm in this we start looking from the first element to the end of the data structure checking each element for the match.🧐🧐🧐."
   ]
  },
  {
   "cell_type": "code",
   "execution_count": 21,
   "metadata": {},
   "outputs": [
    {
     "name": "stdout",
     "output_type": "stream",
     "text": [
      "1 2 3 4 5\n",
      "element to be search 9\n",
      "element not found\n"
     ]
    }
   ],
   "source": [
    "flag = 0\n",
    "a = [int(x) for x in input().split()]     #give input of the array where we have to search for thr element with space in between\n",
    "x=int(input(\"element to be search \"))     #give input of the element to search\n",
    "for i in range(len(a)):\n",
    "    if(a[i]==x):\n",
    "        flag = 1        # if the eleet is there in the list turn flag to 1 and save the index and break the searching loop\n",
    "        index=i\n",
    "        break\n",
    "if(flag==1):\n",
    "    print(\"element found at\",index)     # if element is there print the inndex of the number\n",
    "else:\n",
    "    print(\"element not found\")          # is the number is not there print not found"
   ]
  },
  {
   "cell_type": "markdown",
   "metadata": {},
   "source": [
    "you saw that this algorithm go and match the given element with each element of the list. with small dataset it is good but what about dangerously large dataset whuch has millions and millions of data do you think is it feasable to go and check each element of the list lets take the worst case if the element is not there it will search the whole list and if you had refered my Big O file where i talked about performance of each algorithm. here also we will take worst case of element not there in the list so there will be the waste of computation power and taking it has O(n) complexicity as it goes linearly to all element and match it. but it has advantage also it donot need any special condition like sorting and all....you will soon understand this.😁😁😁"
   ]
  },
  {
   "cell_type": "markdown",
   "metadata": {},
   "source": [
    "## Binary Search\n",
    "\n",
    "in this case we have to consider a sorted array. with increasing value of element with increasing index. this is seriously a state of the art algorithm you will soon see its beauty.It is also a form of decrease and conqure algorithms.\n",
    "\n",
    "in this algorithm we will go to the middle of the array and match the given number to themiddle element and see if it is equal or not if not than we will compare them if the element is bigger than the given number than the number might be in left half of the middle element if the element is smaller than the given number than it might be on th right side of the middle element. as we know thw elemet is sorted if the given number is bigger than the middle index element than the given number must lie on the group of the number which is bigger than the middle element i.e. right part. now we have a new array with half of the length of the original array now we will do the same again, see the element of the new array and again compare the given number and again see if it lies in the left or right of the new array and again narrow down our search we will continue this untill we finds an element or else there will be only 2 elemet in the list and our given number is none of them thus array will not contain our number 🤔🤔🤔\n",
    "\n",
    "lets visualize it\n",
    "\n",
    "<@ N @ @ @ @ @ @ @ @ M1 @ @ @ @ @ @ @ @ @ @>\n",
    "\n",
    "M1 is the middle element of the sorted array and N is the number we want to search and @ are the other elements of the array.\n",
    "now we will compare the element N with M1 and it is smaller tha M1 so the element might be in lleft part of the array\n",
    "\n",
    "<@ N @ @ M2 @ @ @ @ @>\n",
    "\n",
    "now we have new array with new middle element M2 we will again comapre and decide where our number might be....so it seems like it might be in left side again.\n",
    "\n",
    "<@ N M3 @ @>\n",
    "\n",
    "now again we will narrow down our searching area.and again compare.\n",
    "\n",
    "<@ N @>\n",
    "\n",
    "now we can see this that middle elemet is our given number. so we find our number.\n",
    "\n",
    "so you can see how beautifully this algorithm narrow down searching area of the given number. if the number is not there in the array then it will end you squzeeing array to only 2 element and then see for the number if the number is not there in that array then it will return not found"
   ]
  },
  {
   "cell_type": "code",
   "execution_count": 32,
   "metadata": {},
   "outputs": [
    {
     "name": "stdout",
     "output_type": "stream",
     "text": [
      "1 2 3 4 5\n",
      "4\n",
      "element is in the array on  3\n"
     ]
    }
   ],
   "source": [
    "# here we are using recurssion call for coding binary tree as we have to half the array and again see in the half array for many times\n",
    "\n",
    "def binarySearch(a,left,right,x): #this fuction will take array,left index of the array, right most index of the array and number to be search\n",
    "    if(left<=right):              # checking basic condition of array index\n",
    "        mid = int(left+(right-1)/2)  # calculating mid term of the array\n",
    "        \n",
    "        if(a[mid]==x):    # checking middle element \n",
    "            return mid\n",
    "        elif(a[mid]>x):    # if middle element is greater than the given number than change the array upper limit to mid term to narrow down search to left part of the array\n",
    "            return binarySearch(a,left,mid-1,x)   # again calling the same fuction for searching new array \n",
    "        else:\n",
    "            return binarySearch(a,mid+1,right,x)  # if the middle element is smaller than the given number than change the lower bound to mid+1 and narrowing down the search to right side of the array and calling the same function\n",
    "    else:\n",
    "        return -1 # if it is end of the fuction it will narrow to 2 elements and then if the number still doesn't match than it will return -1\n",
    "    \n",
    "a = [int(x) for x in input().split()]  # taking input of the sorted array only\n",
    "x= int(input())                        # taking input of number to be searched\n",
    "\n",
    "result = binarySearch(a,0,len(a)-1,x)   #calling the function\n",
    "if(result == -1):\n",
    "    print(\"element is not in the array\")\n",
    "else:\n",
    "    print(\"element is in the array on \",result)\n",
    "    "
   ]
  },
  {
   "cell_type": "markdown",
   "metadata": {},
   "source": [
    "as you can see that this algorithm squzeeses the searching area and provide the result so it is incrediblly fast but only draw back is we have to provide sorted array for the operation.\n",
    "\n",
    "now main part how fast it is.....as you can see that it goes to the middle element and compares the given number with that so it will take O(1) time for one comparision. so taking the worst case if there is no match than it wil compare the middle element and devide the array in 2 half again it will go to middle and compare and devide the array in half again.....and so on.\n",
    "\n",
    "so the algorithm will work untill we can slice the array in equal halfs. so if there is n elements in the array there will be log to the base 2 (n) so the algorithm will work for log(n) to the base 2 times. so its max complexicity will be O(log(n) to the base 2) or O(log(2)(n)). which is smaller for than O(n) thus it is faster than linear search."
   ]
  },
  {
   "cell_type": "markdown",
   "metadata": {},
   "source": [
    "## Jump Search\n",
    "\n",
    "this is again for sorted array search case.\n",
    "\n",
    "in this we will take a finite interval of array and see if arr[km] < x< arr[(k+1)m] and when we find such a region in the array then we will perfrom a liner search in that region.\n",
    "\n",
    "for example lets take a array (0 1 2 3 4 5 6 7 8 9 10) \n",
    "\n",
    "the length of the array is 10 and lets say we have to find 5 in this array with steps of 4\n",
    "\n",
    "Step1: jumo to index 0 to 4 and compare the arr[0] and arr[3] with x such that arr[0]< x < arr[3] in this case 1 !<= 5 !<=4 so 5 is not indluded in this region.\n",
    "Step2 : jump to the index 4 to 6 and again compare the boundary. now 4 <= 5 <= 7 so 5 will be in this region.\n",
    "\n",
    "now we will do linear search between index arr[4] to arr[6] for our given number and return the index if it is there oherwise not found\n",
    "\n",
    "([1 2 3 4 ]5 6 7 8 9 10)       1 !<= 5 !<= 4 so 5 is not in this block or region so we will shift the block.\n",
    "\n",
    "(1 2 3 4 [5 6 7 8] 9 10)       now 5 <= 5 <= 8 5 lie in this region so it will return this block\n",
    "\n",
    "now we have the block of array [5 6 7 8] and we know that our given number might be in this block so we will now perform linear search and find the element in the block.\n",
    "\n",
    "so the main question in your mind is so what should be the step size or jump size we should take so traditionally we take sqrt(size of given array). so you are all set to go for coding part.🙌🙌"
   ]
  },
  {
   "cell_type": "code",
   "execution_count": 34,
   "metadata": {},
   "outputs": [
    {
     "name": "stdout",
     "output_type": "stream",
     "text": [
      "1 2 3 4 5\n",
      "3\n",
      "Number 3 is at index 2\n"
     ]
    }
   ],
   "source": [
    "import math \n",
    "  \n",
    "def jumpSearch( arr , x , n ): \n",
    "      \n",
    "    # Finding block size to be jumped \n",
    "    step = math.sqrt(n) \n",
    "      \n",
    "    # Finding the block where element is \n",
    "    # present (if it is present) \n",
    "    prev = 0\n",
    "    while arr[int(min(step, n)-1)] < x: \n",
    "        prev = step \n",
    "        step += math.sqrt(n) \n",
    "        if prev >= n: \n",
    "            return -1\n",
    "      \n",
    "    # Doing a linear search for x in  \n",
    "    # block beginning with prev. \n",
    "    while arr[int(prev)] < x: \n",
    "        prev += 1\n",
    "          \n",
    "        # If we reached next block or end  \n",
    "        # of array, element is not present. \n",
    "        if prev == min(step, n): \n",
    "            return -1\n",
    "      \n",
    "    # If element is found \n",
    "    if arr[int(prev)] == x: \n",
    "        return prev \n",
    "      \n",
    "    return -1\n",
    "  \n",
    "# Driver code to test function \n",
    "arr =  [int(x) for x in input().split()] \n",
    "x = int(input())\n",
    "n = len(arr) \n",
    "  \n",
    "# Find the index of 'x' using Jump Search \n",
    "index = jumpSearch(arr, x, n) \n",
    "  \n",
    "# Print the index where 'x' is located \n",
    "print(\"Number\" , x, \"is at index\" ,\"%.0f\"%index) \n"
   ]
  },
  {
   "cell_type": "markdown",
   "metadata": {},
   "source": [
    "now time for calculating the complexity of the algorithm\n",
    "\n",
    "so we know that we have to devide the array in different blocks of sqrt(n) here n is the size of the given array so first we will go to the whole array and find the optimal block which might contain the number and the search linearly over them.\n",
    "\n",
    "so lets take the worst case \n",
    "arr= [1 2 3 4 5 6 7 8 10]\n",
    "\n",
    "and number be 9\n",
    "\n",
    "and step be sqrt(10) nearly as 3 so step is 3\n",
    "\n",
    "so we will find the block which might contain our number so we will go to the array and take the worst case as in example it is in the last block so it will take o(1) for comparision each time and then we have the block and now we have to perform linear search from linear search we know its complexity will be O(sqrt(n)) as the length of the block is equal to the step size which is sqrt(n) so at last we will sum all the somplexity \n",
    "\n",
    "o(1)+O(1)+(1)+O(1)+O(1)+....+O(sqrt(n))\n",
    "\n",
    "so hwew we see that O(sqrt(n)) will be significntly large so we iwll consider complexity of jump algorithm as O(sqrt(n)). which is in between linear and binary search."
   ]
  },
  {
   "cell_type": "code",
   "execution_count": null,
   "metadata": {},
   "outputs": [],
   "source": []
  },
  {
   "cell_type": "markdown",
   "metadata": {},
   "source": [
    "there are many more algorithm i will comment on this as soon as i complete them so stay tuned😋"
   ]
  },
  {
   "cell_type": "code",
   "execution_count": null,
   "metadata": {},
   "outputs": [],
   "source": []
  }
 ],
 "metadata": {
  "kernelspec": {
   "display_name": "Python 3",
   "language": "python",
   "name": "python3"
  },
  "language_info": {
   "codemirror_mode": {
    "name": "ipython",
    "version": 3
   },
   "file_extension": ".py",
   "mimetype": "text/x-python",
   "name": "python",
   "nbconvert_exporter": "python",
   "pygments_lexer": "ipython3",
   "version": "3.6.5"
  }
 },
 "nbformat": 4,
 "nbformat_minor": 2
}
