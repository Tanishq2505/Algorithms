{
 "cells": [
  {
   "cell_type": "markdown",
   "metadata": {},
   "source": [
    "# Greatest Common Devisor\n",
    "\n",
    "finding greatest common devisor is the elementery problem we all learn in out primary but have you ever imagine if you get higher numbers for GCD then how much calculation you need to do. Same for the computer program we have to minimize the computational cost. taking out all the factors and matching similar factors and than multiply them will take almost forever for larger numbers."
   ]
  },
  {
   "cell_type": "code",
   "execution_count": 8,
   "metadata": {},
   "outputs": [
    {
     "name": "stdout",
     "output_type": "stream",
     "text": [
      "98\n",
      "12\n",
      "2\n",
      "--- 0.0 seconds ---\n"
     ]
    }
   ],
   "source": [
    "# efficient algorithm\n",
    "\n",
    "import time\n",
    "def gcd(a ,b):\n",
    "    if(b==0):\n",
    "        print(a)\n",
    "    else:\n",
    "        l=a%b\n",
    "        a=b\n",
    "        b=l\n",
    "        gcd(a,b)\n",
    "\n",
    "a=int(input()) #first input\n",
    "b=int(input()) #second input\n",
    "start_time = time.time()\n",
    "gcd(a,b)\n",
    "print(\"--- %s seconds ---\" % (time.time() - start_time))"
   ]
  },
  {
   "cell_type": "markdown",
   "metadata": {},
   "source": [
    "# Explaination\n",
    "\n",
    "As you can see this algorithm takes almost no time in execution and also easy to code. Here we use n= q*d+r mathmatical fomulation to find the gcd we assume that the other number is a factor of the first number plus some reminder and then we replace the other number with the reminder and first number with the previous second number and now we assume that new second numbe is a factor of new first number plus some reminder then we again replace second number with the reminder and first woth previous second number and so on untill the we get second number or reminder as 0 so as we gt reminder 0 thus this number is fully devisible with the first number thus with the original number as well."
   ]
  },
  {
   "cell_type": "code",
   "execution_count": null,
   "metadata": {},
   "outputs": [],
   "source": []
  }
 ],
 "metadata": {
  "kernelspec": {
   "display_name": "Python 3",
   "language": "python",
   "name": "python3"
  },
  "language_info": {
   "codemirror_mode": {
    "name": "ipython",
    "version": 3
   },
   "file_extension": ".py",
   "mimetype": "text/x-python",
   "name": "python",
   "nbconvert_exporter": "python",
   "pygments_lexer": "ipython3",
   "version": "3.6.5"
  }
 },
 "nbformat": 4,
 "nbformat_minor": 2
}
